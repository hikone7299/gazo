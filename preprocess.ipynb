{
  "nbformat": 4,
  "nbformat_minor": 0,
  "metadata": {
    "colab": {
      "name": "preprocess.ipynb",
      "provenance": [],
      "mount_file_id": "1Z2Bl9yoj6j0pr35Ztr48MBk4gFguYVH1",
      "authorship_tag": "ABX9TyPLqesickAb96Ljn/G8wcln",
      "include_colab_link": true
    },
    "kernelspec": {
      "name": "python3",
      "display_name": "Python 3"
    }
  },
  "cells": [
    {
      "cell_type": "markdown",
      "metadata": {
        "id": "view-in-github",
        "colab_type": "text"
      },
      "source": [
        "<a href=\"https://colab.research.google.com/github/hikone7299/gazo/blob/master/preprocess.ipynb\" target=\"_parent\"><img src=\"https://colab.research.google.com/assets/colab-badge.svg\" alt=\"Open In Colab\"/></a>"
      ]
    },
    {
      "cell_type": "code",
      "metadata": {
        "id": "Swj9dK1_ZoWY",
        "colab_type": "code",
        "colab": {
          "base_uri": "https://localhost:8080/",
          "height": 146
        },
        "outputId": "ca435913-fc97-4377-c086-20962ec7b417"
      },
      "source": [
        "import sys\n",
        "sys.path.append('/content/drive/My Drive/ColabData')\n",
        "\n",
        "import ic_module as ic\n",
        "\n",
        "import importlib\n",
        "importlib.reload(ic)\n",
        "\n",
        "import os.path as op\n",
        "\n",
        "i = 0\n",
        "for filename in ic.FileNames :\n",
        "    # ディレクトリ名入力\n",
        "    while True :\n",
        "        dirname = input(\">>「\" + ic.ClassNames[i] + \"」の画像のあるディレクトリ ： \")\n",
        "        if op.isdir(dirname) :\n",
        "            break\n",
        "        print(\">> そのディレクトリは存在しません！\")\n",
        "\n",
        "    # 関数実行\n",
        "    ic.PreProcess(dirname, filename, var_amount=3)\n",
        "    i += 1"
      ],
      "execution_count": 1,
      "outputs": [
        {
          "output_type": "stream",
          "text": [
            ">>「tanuki」の画像のあるディレクトリ ： /content/drive/My Drive/ColabData/face/タヌキ顔女性\n",
            ">> /content/drive/My Drive/ColabData/face/タヌキ顔女性から212個のファイル読み込み成功\n",
            ">>「kitsune」の画像のあるディレクトリ ： /content/drive/My Drive/ColabData/face/キツネ顔女性\n",
            ">> /content/drive/My Drive/ColabData/face/キツネ顔女性から232個のファイル読み込み成功\n",
            ">>「neko」の画像のあるディレクトリ ： /content/drive/My Drive/ColabData/face/ネコ顔女性\n",
            ">> /content/drive/My Drive/ColabData/face/ネコ顔女性から92個のファイル読み込み成功\n"
          ],
          "name": "stdout"
        }
      ]
    },
    {
      "cell_type": "code",
      "metadata": {
        "id": "673zlAVMjSlQ",
        "colab_type": "code",
        "colab": {}
      },
      "source": [
        ""
      ],
      "execution_count": null,
      "outputs": []
    }
  ]
}