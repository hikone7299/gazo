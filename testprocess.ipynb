{
  "nbformat": 4,
  "nbformat_minor": 0,
  "metadata": {
    "colab": {
      "name": "testprocess.ipynb",
      "provenance": [],
      "mount_file_id": "11O-18oezA8XfPrmflQ8tzOre6SxLWItb",
      "authorship_tag": "ABX9TyMOzjzrmTWiiCWthJITh8sx",
      "include_colab_link": true
    },
    "kernelspec": {
      "name": "python3",
      "display_name": "Python 3"
    }
  },
  "cells": [
    {
      "cell_type": "markdown",
      "metadata": {
        "id": "view-in-github",
        "colab_type": "text"
      },
      "source": [
        "<a href=\"https://colab.research.google.com/github/hikone7299/gazo/blob/master/testprocess.ipynb\" target=\"_parent\"><img src=\"https://colab.research.google.com/assets/colab-badge.svg\" alt=\"Open In Colab\"/></a>"
      ]
    },
    {
      "cell_type": "code",
      "metadata": {
        "id": "sv5OJobrpLwI",
        "colab_type": "code",
        "colab": {
          "base_uri": "https://localhost:8080/",
          "height": 819
        },
        "outputId": "f54c4463-81f3-4bc3-c90b-99cbf3e4b244"
      },
      "source": [
        "\n",
        "import sys\n",
        "sys.path.append('/content/drive/My Drive/ColabData')\n",
        "\n",
        "import ic_module as ic\n",
        "\n",
        "import importlib\n",
        "importlib.reload(ic)\n",
        "\n",
        "import os.path as op\n",
        "\n",
        "while True:\n",
        "    while True:\n",
        "        imgname = input(\"\\n>> 入力したい画像ファイル(「END」で終了) ： \")\n",
        "        if op.isfile(imgname) or imgname == \"END\":\n",
        "            break\n",
        "        print(\">> そのファイルは存在しません！\")\n",
        "    if imgname == \"END\":\n",
        "        break\n",
        "\n",
        "    # 関数実行\n",
        "    ic.TestProcess(imgname)"
      ],
      "execution_count": null,
      "outputs": [
        {
          "output_type": "stream",
          "text": [
            "\n",
            ">> 入力したい画像ファイル(「END」で終了) ： test/000045.jpg\n",
            ">> そのファイルは存在しません！\n",
            "\n",
            ">> 入力したい画像ファイル(「END」で終了) ： test/000050.jpg\n",
            ">> そのファイルは存在しません！\n",
            "\n",
            ">> 入力したい画像ファイル(「END」で終了) ： /test/000045.jpg\n",
            ">> そのファイルは存在しません！\n",
            "\n",
            ">> 入力したい画像ファイル(「END」で終了) ： /content/drive/My Drive/ColabData/test/000045.jpg\n",
            "1\n",
            "2\n",
            "3\n",
            ">> 計算結果↓\n",
            "[[0.06672636 0.5360686  0.397205  ]]\n",
            ">> この画像は「kitsune」です。\n",
            "\n",
            ">> 入力したい画像ファイル(「END」で終了) ： /content/drive/My Drive/ColabData/test/000074.jpg\n",
            "1\n",
            "2\n",
            "3\n",
            ">> 計算結果↓\n",
            "[[0.04339143 0.9079862  0.04862237]]\n",
            ">> この画像は「kitsune」です。\n",
            "\n",
            ">> 入力したい画像ファイル(「END」で終了) ： /content/drive/My Drive/ColabData/test/000083.jpg\n",
            "1\n",
            "2\n",
            "3\n",
            ">> 計算結果↓\n",
            "[[0.16367723 0.7161395  0.12018328]]\n",
            ">> この画像は「kitsune」です。\n",
            "\n",
            ">> 入力したい画像ファイル(「END」で終了) ： /content/drive/My Drive/ColabData/test/000071.jpg\n",
            "1\n",
            "2\n",
            "3\n",
            ">> 計算結果↓\n",
            "[[0.16703899 0.6535008  0.1794602 ]]\n",
            ">> この画像は「kitsune」です。\n"
          ],
          "name": "stdout"
        }
      ]
    }
  ]
}